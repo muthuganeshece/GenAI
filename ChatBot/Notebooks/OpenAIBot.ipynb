{
 "cells": [
  {
   "cell_type": "code",
   "execution_count": 1,
   "id": "3364d05d-6366-451f-af01-64a08ad4953f",
   "metadata": {},
   "outputs": [],
   "source": [
    "import openai"
   ]
  },
  {
   "cell_type": "code",
   "execution_count": 2,
   "id": "8b791d1f-f801-4521-b2ad-5979f8235ed9",
   "metadata": {},
   "outputs": [],
   "source": [
    "def get_chatgpt_response(message):\n",
    "    chat_response = openai.chat.completions.create(\n",
    "        model=\"gpt-3.5-turbo-16k\",\n",
    "        messages=message,\n",
    "        max_tokens=500,\n",
    "        temperature=0.5,\n",
    "        n=1,\n",
    "        stop=None,\n",
    "        frequency_penalty=0,\n",
    "        presence_penalty=0)\n",
    "    \n",
    "    return chat_response.choices[0].message.content"
   ]
  },
  {
   "cell_type": "code",
   "execution_count": 3,
   "id": "a96e263c-0ea4-4676-9627-e209471ce0dc",
   "metadata": {},
   "outputs": [
    {
     "name": "stdout",
     "output_type": "stream",
     "text": [
      "Machine learning is a subset of artificial intelligence that enables computers to learn and make predictions or decisions without being explicitly programmed. It involves the development of algorithms that allow computers to automatically learn from and analyze large amounts of data.\n",
      "\n",
      "The process of machine learning typically involves the following steps:\n",
      "\n",
      "1. Data Collection: The first step is to gather relevant data that will be used for training the machine learning model. This data can be collected from various sources such as databases, sensors, or the internet.\n",
      "\n",
      "2. Data Pre\n",
      "None\n"
     ]
    }
   ],
   "source": [
    "# Example usage\n",
    "user_prompt = \"Explain how machine learning works.\"\n",
    "message = [{\"role\": \"system\", \"content\": \"You are a helpful assistant.\"}, {\"role\": \"user\", \"content\": user_prompt}]\n",
    "print(get_chatgpt_response(message))"
   ]
  },
  {
   "cell_type": "code",
   "execution_count": null,
   "id": "7da8ca0f-d767-4a00-a8b7-1ecdfe00ca97",
   "metadata": {},
   "outputs": [],
   "source": []
  }
 ],
 "metadata": {
  "kernelspec": {
   "display_name": "Python 3 (ipykernel)",
   "language": "python",
   "name": "python3"
  },
  "language_info": {
   "codemirror_mode": {
    "name": "ipython",
    "version": 3
   },
   "file_extension": ".py",
   "mimetype": "text/x-python",
   "name": "python",
   "nbconvert_exporter": "python",
   "pygments_lexer": "ipython3",
   "version": "3.11.7"
  }
 },
 "nbformat": 4,
 "nbformat_minor": 5
}
